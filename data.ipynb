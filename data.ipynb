{
 "cells": [
  {
   "cell_type": "code",
   "execution_count": null,
   "id": "7b8bd557",
   "metadata": {
    "vscode": {
     "languageId": "plaintext"
    }
   },
   "outputs": [],
   "source": [
    "%matplotlib inline\n",
    "\n",
    "import pandas as pd\n",
    "import matplotlib.pyplot as plt\n",
    "import seaborn as sns"
   ]
  },
  {
   "cell_type": "code",
   "execution_count": null,
   "id": "e39f3796",
   "metadata": {
    "vscode": {
     "languageId": "plaintext"
    }
   },
   "outputs": [],
   "source": [
    "# === Load CSV file ===\n",
    "df = pd.read_csv(\"data.csv\")"
   ]
  },
  {
   "cell_type": "code",
   "execution_count": null,
   "id": "315d513e",
   "metadata": {
    "vscode": {
     "languageId": "plaintext"
    }
   },
   "outputs": [],
   "source": [
    "# === Columns to skip ===\n",
    "skip_cols = [\n",
    "    'Timestamp',\n",
    "    'Name/Nickname',\n",
    "    'What challenges have you encountered while using the system, and how do you think they can be addressed?',\n",
    "    'How do you think students and faculty can be encouraged to use the system more effectively?'\n",
    "]"
   ]
  },
  {
   "cell_type": "code",
   "execution_count": null,
   "id": "289cf337",
   "metadata": {
    "vscode": {
     "languageId": "plaintext"
    }
   },
   "outputs": [],
   "source": [
    "# === Set style ===\n",
    "sns.set(style=\"whitegrid\")"
   ]
  },
  {
   "cell_type": "code",
   "execution_count": null,
   "id": "2ff91d12",
   "metadata": {
    "vscode": {
     "languageId": "plaintext"
    }
   },
   "outputs": [],
   "source": [
    "# === Define expected response order ===\n",
    "response_order = [\n",
    "    \"Always\", \"Often\", \"Sometimes\", \"Rarely\", \"Never\",\n",
    "    \"Very Consistent\", \"Consistent\", \"Neutral\", \"Inconsistent\", \"Very Inconsistent\",\n",
    "    \"Very Satisfied\", \"Satisfied\", \"Neutral\", \"Dissatisfied\", \"Very Dissatisfied\",\n",
    "    \"Strongly Agree\", \"Agree\", \"Neutral\", \"Disagree\", \"Strongly Disagree\",\n",
    "    \"Very Unlikely\", \"Unlikely\", \"Neutral\", \"Likely\", \"Very Likely\",\n",
    "    \"Very Reliable\", \"Reliable\", \"Neutral\", \"Unreliable\", \"Very Unreliable\"\n",
    "]"
   ]
  },
  {
   "cell_type": "code",
   "execution_count": null,
   "id": "ae1f3c24",
   "metadata": {
    "vscode": {
     "languageId": "plaintext"
    }
   },
   "outputs": [],
   "source": [
    "# === Loop over columns and plot ===\n",
    "question_number = 1\n",
    "\n",
    "for col in df.columns:\n",
    "    if col in skip_cols:\n",
    "        continue\n",
    "\n",
    "    # Count responses using expected order\n",
    "    counts = df[col].value_counts().reindex(response_order, fill_value=0)\n",
    "    counts = counts[counts > 0]  # Drop unused options\n",
    "\n",
    "    plt.figure(figsize=(12, 6))\n",
    "    sns.barplot(x=counts.index, y=counts.values, palette='mako')\n",
    "\n",
    "    # Title\n",
    "    plt.title(f\"{question_number}. {col}\", fontsize=14, weight='bold', loc='center')\n",
    "    question_number += 1\n",
    "\n",
    "    # Labels\n",
    "    plt.xlabel(\"Response Category\", fontsize=12)\n",
    "    plt.ylabel(\"Number of Respondents\", fontsize=12)\n",
    "    plt.xticks(rotation=45, ha='right')\n",
    "    plt.grid(axis='y')\n",
    "    plt.tight_layout()\n",
    "    plt.show()"
   ]
  }
 ],
 "metadata": {
  "language_info": {
   "name": "python"
  }
 },
 "nbformat": 4,
 "nbformat_minor": 5
}
